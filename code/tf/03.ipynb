{
 "metadata": {
  "language_info": {
   "codemirror_mode": {
    "name": "ipython",
    "version": 3
   },
   "file_extension": ".py",
   "mimetype": "text/x-python",
   "name": "python",
   "nbconvert_exporter": "python",
   "pygments_lexer": "ipython3",
   "version": "3.6.8-final"
  },
  "orig_nbformat": 2,
  "kernelspec": {
   "name": "python3",
   "display_name": "Python 3.6.8 64-bit ('base': conda)",
   "metadata": {
    "interpreter": {
     "hash": "faba3846b028a6bcca28b95e15da93e5881fe103dabd9a50e52f5dd303db8cc7"
    }
   }
  }
 },
 "nbformat": 4,
 "nbformat_minor": 2,
 "cells": [
  {
   "source": [
    "# tensorflow 2系列03 断点续训，自动停止训练\n",
    "本期文章是一个系列课程，本文是这个系列的第3篇复习笔记\n",
    "\n",
    "(1)Build and train neural network models using TensorFlow 2.x  \n",
    "(2)Image classification  \n",
    "(3)Natural language processing(NLP)  \n",
    "(4)Time series, sequences and predictions  \n",
    "\n",
    "## 断点续训\n",
    "断点续传主要是模型序列化，然后重新加载模型继续训练，这个对于实际生产应用非常有帮助，可以实现在线实时训练．而不用丢失之前的训练进度．\n",
    "主要通过model.laod_weights函数来完成模型的加载，tensorflow的模型文件格式一般是ckpt文件\n",
    "### 读取模型\n",
    "```python\n",
    "checkponit_save_path=\"./checkponit/fashion.ckpt\"\n",
    "if os.path.exists(checkponit_save_path+\".index\"):\n",
    "    print(\"------------load the model -------------\")\n",
    "    model.load_weights(checkponit_save_path)\n",
    "```\n",
    "### 保存模型\n",
    "```python\n",
    "tf.keras.callbacks.ModelCheckpoint(\n",
    "    filepath=\"路径文件名\",\n",
    "    save_weights_only=True/False,\n",
    "    save_best_only=True/False\n",
    ")\n",
    "```\n",
    "### 训练时调用\n",
    "```python\n",
    "cp_callback=tf.keras.callbacks.ModelCheckpoint(filepath=checkponit_save_path\n",
    "    save_weights_only=True,\n",
    "    save_best_only=True\n",
    ")\n",
    "history=model.fit(x,y,batch_size=32,epochs=5,validation_data=(x_test,y_test),validation_freq=1,callbacks=[cp_callback])\n",
    "```\n",
    "\n",
    "## 自动停止训练  \n",
    "主要是实现一个callback的子类来获取实际中的参数来控制stop_training变量达到停止训练目的．\n",
    "```python\n",
    "class MyCallback(tf.keras.callbacks.Callback):\n",
    "    \n",
    "    def on_epoch_end(self,epoch,logs={}):\n",
    "        if (logs.get(\"loss\")<0.25):\n",
    "            print(\"\\n loss is low so cancel train\")\n",
    "            self.model.stop_training=True\n",
    "```\n",
    "\n",
    "## 代码实战"
   ],
   "cell_type": "markdown",
   "metadata": {}
  },
  {
   "cell_type": "code",
   "execution_count": 16,
   "metadata": {},
   "outputs": [
    {
     "output_type": "stream",
     "name": "stdout",
     "text": [
      "2.3.0\n",
      "------------load the model -------------\n",
      "Epoch 1/50\n",
      "1853/1875 [============================>.] - ETA: 0s - loss: 0.2806 - accuracy: 0.8959\n",
      " loss is low so cancel train\n",
      "1875/1875 [==============================] - 4s 2ms/step - loss: 0.2801 - accuracy: 0.8960 - val_loss: 54.3266 - val_accuracy: 0.8685\n",
      "313/313 [==============================] - 0s 1ms/step - loss: 0.3418 - accuracy: 0.8796\n",
      "WARNING:tensorflow:7 out of the last 7 calls to <function Model.make_predict_function.<locals>.predict_function at 0x7f76704549d8> triggered tf.function retracing. Tracing is expensive and the excessive number of tracings could be due to (1) creating @tf.function repeatedly in a loop, (2) passing tensors with different shapes, (3) passing Python objects instead of tensors. For (1), please define your @tf.function outside of the loop. For (2), @tf.function has experimental_relax_shapes=True option that relaxes argument shapes that can avoid unnecessary retracing. For (3), please refer to https://www.tensorflow.org/tutorials/customization/performance#python_or_tensor_args and https://www.tensorflow.org/api_docs/python/tf/function for  more details.\n",
      "9\n"
     ]
    },
    {
     "output_type": "execute_result",
     "data": {
      "text/plain": [
       "<matplotlib.image.AxesImage at 0x7f767986f2e8>"
      ]
     },
     "metadata": {},
     "execution_count": 16
    },
    {
     "output_type": "display_data",
     "data": {
      "text/plain": "<Figure size 432x288 with 1 Axes>",
      "image/svg+xml": "<?xml version=\"1.0\" encoding=\"utf-8\" standalone=\"no\"?>\n<!DOCTYPE svg PUBLIC \"-//W3C//DTD SVG 1.1//EN\"\n  \"http://www.w3.org/Graphics/SVG/1.1/DTD/svg11.dtd\">\n<!-- Created with matplotlib (https://matplotlib.org/) -->\n<svg height=\"252.018125pt\" version=\"1.1\" viewBox=\"0 0 255.065 252.018125\" width=\"255.065pt\" xmlns=\"http://www.w3.org/2000/svg\" xmlns:xlink=\"http://www.w3.org/1999/xlink\">\n <defs>\n  <style type=\"text/css\">\n*{stroke-linecap:butt;stroke-linejoin:round;}\n  </style>\n </defs>\n <g id=\"figure_1\">\n  <g id=\"patch_1\">\n   <path d=\"M 0 252.018125 \nL 255.065 252.018125 \nL 255.065 0 \nL 0 0 \nz\n\" style=\"fill:none;\"/>\n  </g>\n  <g id=\"axes_1\">\n   <g id=\"patch_2\">\n    <path d=\"M 26.925 228.14 \nL 244.365 228.14 \nL 244.365 10.7 \nL 26.925 10.7 \nz\n\" style=\"fill:#ffffff;\"/>\n   </g>\n   <g clip-path=\"url(#p5a2b085649)\">\n    <image height=\"218\" id=\"imageab2ae6f52e\" transform=\"scale(1 -1)translate(0 -218)\" width=\"218\" x=\"26.925\" xlink:href=\"data:image/png;base64,\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\" y=\"-10.14\"/>\n   </g>\n   <g id=\"matplotlib.axis_1\">\n    <g id=\"xtick_1\">\n     <g id=\"line2d_1\">\n      <defs>\n       <path d=\"M 0 0 \nL 0 3.5 \n\" id=\"mf68e275974\" style=\"stroke:#000000;stroke-width:0.8;\"/>\n      </defs>\n      <g>\n       <use style=\"stroke:#000000;stroke-width:0.8;\" x=\"30.807857\" xlink:href=\"#mf68e275974\" y=\"228.14\"/>\n      </g>\n     </g>\n     <g id=\"text_1\">\n      <!-- 0 -->\n      <defs>\n       <path d=\"M 31.78125 66.40625 \nQ 24.171875 66.40625 20.328125 58.90625 \nQ 16.5 51.421875 16.5 36.375 \nQ 16.5 21.390625 20.328125 13.890625 \nQ 24.171875 6.390625 31.78125 6.390625 \nQ 39.453125 6.390625 43.28125 13.890625 \nQ 47.125 21.390625 47.125 36.375 \nQ 47.125 51.421875 43.28125 58.90625 \nQ 39.453125 66.40625 31.78125 66.40625 \nz\nM 31.78125 74.21875 \nQ 44.046875 74.21875 50.515625 64.515625 \nQ 56.984375 54.828125 56.984375 36.375 \nQ 56.984375 17.96875 50.515625 8.265625 \nQ 44.046875 -1.421875 31.78125 -1.421875 \nQ 19.53125 -1.421875 13.0625 8.265625 \nQ 6.59375 17.96875 6.59375 36.375 \nQ 6.59375 54.828125 13.0625 64.515625 \nQ 19.53125 74.21875 31.78125 74.21875 \nz\n\" id=\"DejaVuSans-48\"/>\n      </defs>\n      <g transform=\"translate(27.626607 242.738437)scale(0.1 -0.1)\">\n       <use xlink:href=\"#DejaVuSans-48\"/>\n      </g>\n     </g>\n    </g>\n    <g id=\"xtick_2\">\n     <g id=\"line2d_2\">\n      <g>\n       <use style=\"stroke:#000000;stroke-width:0.8;\" x=\"69.636429\" xlink:href=\"#mf68e275974\" y=\"228.14\"/>\n      </g>\n     </g>\n     <g id=\"text_2\">\n      <!-- 5 -->\n      <defs>\n       <path d=\"M 10.796875 72.90625 \nL 49.515625 72.90625 \nL 49.515625 64.59375 \nL 19.828125 64.59375 \nL 19.828125 46.734375 \nQ 21.96875 47.46875 24.109375 47.828125 \nQ 26.265625 48.1875 28.421875 48.1875 \nQ 40.625 48.1875 47.75 41.5 \nQ 54.890625 34.8125 54.890625 23.390625 \nQ 54.890625 11.625 47.5625 5.09375 \nQ 40.234375 -1.421875 26.90625 -1.421875 \nQ 22.3125 -1.421875 17.546875 -0.640625 \nQ 12.796875 0.140625 7.71875 1.703125 \nL 7.71875 11.625 \nQ 12.109375 9.234375 16.796875 8.0625 \nQ 21.484375 6.890625 26.703125 6.890625 \nQ 35.15625 6.890625 40.078125 11.328125 \nQ 45.015625 15.765625 45.015625 23.390625 \nQ 45.015625 31 40.078125 35.4375 \nQ 35.15625 39.890625 26.703125 39.890625 \nQ 22.75 39.890625 18.8125 39.015625 \nQ 14.890625 38.140625 10.796875 36.28125 \nz\n\" id=\"DejaVuSans-53\"/>\n      </defs>\n      <g transform=\"translate(66.455179 242.738437)scale(0.1 -0.1)\">\n       <use xlink:href=\"#DejaVuSans-53\"/>\n      </g>\n     </g>\n    </g>\n    <g id=\"xtick_3\">\n     <g id=\"line2d_3\">\n      <g>\n       <use style=\"stroke:#000000;stroke-width:0.8;\" x=\"108.465\" xlink:href=\"#mf68e275974\" y=\"228.14\"/>\n      </g>\n     </g>\n     <g id=\"text_3\">\n      <!-- 10 -->\n      <defs>\n       <path d=\"M 12.40625 8.296875 \nL 28.515625 8.296875 \nL 28.515625 63.921875 \nL 10.984375 60.40625 \nL 10.984375 69.390625 \nL 28.421875 72.90625 \nL 38.28125 72.90625 \nL 38.28125 8.296875 \nL 54.390625 8.296875 \nL 54.390625 0 \nL 12.40625 0 \nz\n\" id=\"DejaVuSans-49\"/>\n      </defs>\n      <g transform=\"translate(102.1025 242.738437)scale(0.1 -0.1)\">\n       <use xlink:href=\"#DejaVuSans-49\"/>\n       <use x=\"63.623047\" xlink:href=\"#DejaVuSans-48\"/>\n      </g>\n     </g>\n    </g>\n    <g id=\"xtick_4\">\n     <g id=\"line2d_4\">\n      <g>\n       <use style=\"stroke:#000000;stroke-width:0.8;\" x=\"147.293571\" xlink:href=\"#mf68e275974\" y=\"228.14\"/>\n      </g>\n     </g>\n     <g id=\"text_4\">\n      <!-- 15 -->\n      <g transform=\"translate(140.931071 242.738437)scale(0.1 -0.1)\">\n       <use xlink:href=\"#DejaVuSans-49\"/>\n       <use x=\"63.623047\" xlink:href=\"#DejaVuSans-53\"/>\n      </g>\n     </g>\n    </g>\n    <g id=\"xtick_5\">\n     <g id=\"line2d_5\">\n      <g>\n       <use style=\"stroke:#000000;stroke-width:0.8;\" x=\"186.122143\" xlink:href=\"#mf68e275974\" y=\"228.14\"/>\n      </g>\n     </g>\n     <g id=\"text_5\">\n      <!-- 20 -->\n      <defs>\n       <path d=\"M 19.1875 8.296875 \nL 53.609375 8.296875 \nL 53.609375 0 \nL 7.328125 0 \nL 7.328125 8.296875 \nQ 12.9375 14.109375 22.625 23.890625 \nQ 32.328125 33.6875 34.8125 36.53125 \nQ 39.546875 41.84375 41.421875 45.53125 \nQ 43.3125 49.21875 43.3125 52.78125 \nQ 43.3125 58.59375 39.234375 62.25 \nQ 35.15625 65.921875 28.609375 65.921875 \nQ 23.96875 65.921875 18.8125 64.3125 \nQ 13.671875 62.703125 7.8125 59.421875 \nL 7.8125 69.390625 \nQ 13.765625 71.78125 18.9375 73 \nQ 24.125 74.21875 28.421875 74.21875 \nQ 39.75 74.21875 46.484375 68.546875 \nQ 53.21875 62.890625 53.21875 53.421875 \nQ 53.21875 48.921875 51.53125 44.890625 \nQ 49.859375 40.875 45.40625 35.40625 \nQ 44.1875 33.984375 37.640625 27.21875 \nQ 31.109375 20.453125 19.1875 8.296875 \nz\n\" id=\"DejaVuSans-50\"/>\n      </defs>\n      <g transform=\"translate(179.759643 242.738437)scale(0.1 -0.1)\">\n       <use xlink:href=\"#DejaVuSans-50\"/>\n       <use x=\"63.623047\" xlink:href=\"#DejaVuSans-48\"/>\n      </g>\n     </g>\n    </g>\n    <g id=\"xtick_6\">\n     <g id=\"line2d_6\">\n      <g>\n       <use style=\"stroke:#000000;stroke-width:0.8;\" x=\"224.950714\" xlink:href=\"#mf68e275974\" y=\"228.14\"/>\n      </g>\n     </g>\n     <g id=\"text_6\">\n      <!-- 25 -->\n      <g transform=\"translate(218.588214 242.738437)scale(0.1 -0.1)\">\n       <use xlink:href=\"#DejaVuSans-50\"/>\n       <use x=\"63.623047\" xlink:href=\"#DejaVuSans-53\"/>\n      </g>\n     </g>\n    </g>\n   </g>\n   <g id=\"matplotlib.axis_2\">\n    <g id=\"ytick_1\">\n     <g id=\"line2d_7\">\n      <defs>\n       <path d=\"M 0 0 \nL -3.5 0 \n\" id=\"mc35077997b\" style=\"stroke:#000000;stroke-width:0.8;\"/>\n      </defs>\n      <g>\n       <use style=\"stroke:#000000;stroke-width:0.8;\" x=\"26.925\" xlink:href=\"#mc35077997b\" y=\"14.582857\"/>\n      </g>\n     </g>\n     <g id=\"text_7\">\n      <!-- 0 -->\n      <g transform=\"translate(13.5625 18.382076)scale(0.1 -0.1)\">\n       <use xlink:href=\"#DejaVuSans-48\"/>\n      </g>\n     </g>\n    </g>\n    <g id=\"ytick_2\">\n     <g id=\"line2d_8\">\n      <g>\n       <use style=\"stroke:#000000;stroke-width:0.8;\" x=\"26.925\" xlink:href=\"#mc35077997b\" y=\"53.411429\"/>\n      </g>\n     </g>\n     <g id=\"text_8\">\n      <!-- 5 -->\n      <g transform=\"translate(13.5625 57.210647)scale(0.1 -0.1)\">\n       <use xlink:href=\"#DejaVuSans-53\"/>\n      </g>\n     </g>\n    </g>\n    <g id=\"ytick_3\">\n     <g id=\"line2d_9\">\n      <g>\n       <use style=\"stroke:#000000;stroke-width:0.8;\" x=\"26.925\" xlink:href=\"#mc35077997b\" y=\"92.24\"/>\n      </g>\n     </g>\n     <g id=\"text_9\">\n      <!-- 10 -->\n      <g transform=\"translate(7.2 96.039219)scale(0.1 -0.1)\">\n       <use xlink:href=\"#DejaVuSans-49\"/>\n       <use x=\"63.623047\" xlink:href=\"#DejaVuSans-48\"/>\n      </g>\n     </g>\n    </g>\n    <g id=\"ytick_4\">\n     <g id=\"line2d_10\">\n      <g>\n       <use style=\"stroke:#000000;stroke-width:0.8;\" x=\"26.925\" xlink:href=\"#mc35077997b\" y=\"131.068571\"/>\n      </g>\n     </g>\n     <g id=\"text_10\">\n      <!-- 15 -->\n      <g transform=\"translate(7.2 134.86779)scale(0.1 -0.1)\">\n       <use xlink:href=\"#DejaVuSans-49\"/>\n       <use x=\"63.623047\" xlink:href=\"#DejaVuSans-53\"/>\n      </g>\n     </g>\n    </g>\n    <g id=\"ytick_5\">\n     <g id=\"line2d_11\">\n      <g>\n       <use style=\"stroke:#000000;stroke-width:0.8;\" x=\"26.925\" xlink:href=\"#mc35077997b\" y=\"169.897143\"/>\n      </g>\n     </g>\n     <g id=\"text_11\">\n      <!-- 20 -->\n      <g transform=\"translate(7.2 173.696362)scale(0.1 -0.1)\">\n       <use xlink:href=\"#DejaVuSans-50\"/>\n       <use x=\"63.623047\" xlink:href=\"#DejaVuSans-48\"/>\n      </g>\n     </g>\n    </g>\n    <g id=\"ytick_6\">\n     <g id=\"line2d_12\">\n      <g>\n       <use style=\"stroke:#000000;stroke-width:0.8;\" x=\"26.925\" xlink:href=\"#mc35077997b\" y=\"208.725714\"/>\n      </g>\n     </g>\n     <g id=\"text_12\">\n      <!-- 25 -->\n      <g transform=\"translate(7.2 212.524933)scale(0.1 -0.1)\">\n       <use xlink:href=\"#DejaVuSans-50\"/>\n       <use x=\"63.623047\" xlink:href=\"#DejaVuSans-53\"/>\n      </g>\n     </g>\n    </g>\n   </g>\n   <g id=\"patch_3\">\n    <path d=\"M 26.925 228.14 \nL 26.925 10.7 \n\" style=\"fill:none;stroke:#000000;stroke-linecap:square;stroke-linejoin:miter;stroke-width:0.8;\"/>\n   </g>\n   <g id=\"patch_4\">\n    <path d=\"M 244.365 228.14 \nL 244.365 10.7 \n\" style=\"fill:none;stroke:#000000;stroke-linecap:square;stroke-linejoin:miter;stroke-width:0.8;\"/>\n   </g>\n   <g id=\"patch_5\">\n    <path d=\"M 26.925 228.14 \nL 244.365 228.14 \n\" style=\"fill:none;stroke:#000000;stroke-linecap:square;stroke-linejoin:miter;stroke-width:0.8;\"/>\n   </g>\n   <g id=\"patch_6\">\n    <path d=\"M 26.925 10.7 \nL 244.365 10.7 \n\" style=\"fill:none;stroke:#000000;stroke-linecap:square;stroke-linejoin:miter;stroke-width:0.8;\"/>\n   </g>\n  </g>\n </g>\n <defs>\n  <clipPath id=\"p5a2b085649\">\n   <rect height=\"217.44\" width=\"217.44\" x=\"26.925\" y=\"10.7\"/>\n  </clipPath>\n </defs>\n</svg>\n",
      "image/png": "[encoded data removed]"
     },
     "metadata": {}
    }
   ],
   "source": [
    "import tensorflow as tf\n",
    "import numpy as np\n",
    "import matplotlib.pyplot as plt\n",
    "\n",
    "print(tf.__version__)\n",
    "(train_x,train_y),(test_x,test_y)=tf.keras.datasets.fashion_mnist.load_data()\n",
    "\n",
    "model=tf.keras.models.Sequential()\n",
    "model.add(tf.keras.layers.Flatten(input_shape=(28,28)))\n",
    "model.add(tf.keras.layers.Dense(128,activation=tf.nn.relu))\n",
    "model.add(tf.keras.layers.Dense(10,activation=tf.nn.softmax))\n",
    "model.compile(optimizer=\"adam\",loss=tf.keras.losses.sparse_categorical_crossentropy,metrics=[\"accuracy\"])\n",
    "\n",
    "checkponit_save_path=\"/tmp/checkponit/fashion.ckpt\"         \n",
    "if os.path.exists(checkponit_save_path+\".index\"):\n",
    "    print(\"------------load the model -------------\")\n",
    "    model.load_weights(checkponit_save_path)\n",
    "\n",
    "class MyCallback(tf.keras.callbacks.Callback):\n",
    "    def on_epoch_end(self,epoch,logs={}):\n",
    "        if logs.get(\"loss\")<0.3:\n",
    "            print(\"\\n loss is low so cancel train\")\n",
    "            self.model.stop_training=True\n",
    "\n",
    "model_save_callback=tf.keras.callbacks.ModelCheckpoint(filepath=checkponit_save_path,\n",
    "    monitor = 'val_loss',\n",
    "    save_weights_only=True,\n",
    "    save_best_only=True\n",
    ")\n",
    "\n",
    "auto_stop_callback=MyCallback()\n",
    "\n",
    "history=model.fit(train_x/255,train_y,batch_size=32,epochs=50,\n",
    "validation_data=(test_x,test_y),validation_freq=1,\n",
    "callbacks=[auto_stop_callback,model_save_callback])\n",
    "model.evaluate(test_x/255,test_y)\n",
    "t=np.array(test_x[0]/255).reshape(1,28,28)\n",
    "print(np.argmax(model.predict(t)))\n",
    "plt.imshow(test_x[0])"
   ]
  },
  {
   "cell_type": "code",
   "execution_count": null,
   "metadata": {},
   "outputs": [],
   "source": []
  },
  {
   "source": [
    "## 总结\n",
    "\n",
    "通过实现不同的callback，可以对模型训练期间进行精确控制．\n",
    "包括模型的断点续训和自动停止训练\n"
   ],
   "cell_type": "markdown",
   "metadata": {}
  }
 ]
}